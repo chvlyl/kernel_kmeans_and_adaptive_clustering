{
 "cells": [
  {
   "cell_type": "markdown",
   "metadata": {},
   "source": [
    "## Install packages"
   ]
  },
  {
   "cell_type": "code",
   "execution_count": 1,
   "metadata": {
    "collapsed": true
   },
   "outputs": [],
   "source": [
    "### install my package\n",
    "### pip install git+git://github.com/chvlyl/kernel_kmeans_and_adaptive_clustering.git\n",
    "### re-install the package if it is updated\n",
    "### pip install --upgrade git+git://github.com/chvlyl/kernel_kmeans_and_adaptive_clustering.git"
   ]
  },
  {
   "cell_type": "code",
   "execution_count": 2,
   "metadata": {
    "collapsed": true
   },
   "outputs": [],
   "source": [
    "import sys\n",
    "import pandas as pd\n",
    "import numpy as np\n",
    "#from kmean_clustering import kmean_clustering as kc"
   ]
  },
  {
   "cell_type": "code",
   "execution_count": 3,
   "metadata": {},
   "outputs": [
    {
     "name": "stdout",
     "output_type": "stream",
     "text": [
      "Python\n",
      "3.6.2 |Continuum Analytics, Inc.| (default, Jul 20 2017, 13:51:32) \n",
      "[GCC 4.4.7 20120313 (Red Hat 4.4.7-1)]\n",
      "Numpy\n",
      "1.13.3\n",
      "Pandas\n",
      "0.20.3\n"
     ]
    }
   ],
   "source": [
    "print('Python')\n",
    "print(sys.version)\n",
    "print('Numpy')\n",
    "print(np.__version__)\n",
    "print('Pandas')\n",
    "print(pd.__version__)"
   ]
  },
  {
   "cell_type": "markdown",
   "metadata": {},
   "source": [
    "## Functions"
   ]
  },
  {
   "cell_type": "code",
   "execution_count": 9,
   "metadata": {
    "collapsed": true
   },
   "outputs": [],
   "source": [
    "def plot_weight_matrix(weight_matrix):\n",
    "    plt.imshow(weight_matrix)\n",
    "    plt.show()"
   ]
  },
  {
   "cell_type": "code",
   "execution_count": 16,
   "metadata": {
    "collapsed": true
   },
   "outputs": [],
   "source": [
    "from  scipy.spatial.distance import pdist,squareform\n",
    "\n",
    "def k_means(data, n_clusters=3, n_init=20, max_iter=100, kernel=None,verbose=False):\n",
    "    '''\n",
    "    data: a numeric numpy array\n",
    "    n_clusters: number of clusters\n",
    "    n_init: number of different initializations to run kmeans\n",
    "    max_iter: number of max iterations \n",
    "    verbose: output detailed information\n",
    "    kernel: \"None\", regular k means; \"gaussian\",  k means with gaussian kernel\n",
    "    '''\n",
    "    ### may not be efficient in terms of memory use\n",
    "    ### no need to save whole history\n",
    "    ### get whole hitory for debugging purpose\n",
    "    controid_history = {}\n",
    "    cluster_label_history = {}\n",
    "    sse_history = np.zeros(shape=(n_init,1))\n",
    "    ### start k-means\n",
    "    n_points = data.shape[0]\n",
    "    ### calculate the kernel matrix\n",
    "    if kernel == 'gaussian':\n",
    "        sigma = 1.0\n",
    "        ### 'sqeuclidean': squared Euclidean distance\n",
    "        kernel_matrix = np.exp(-0.5/(sigma**2)*squareform(pdist(data,'sqeuclidean')))\n",
    "    ### repeat k-means n_init times \n",
    "    ### return the best one \n",
    "    for i_init in range(n_init):\n",
    "        if verbose: print('Random seed',i_init)\n",
    "        #### set random seed\n",
    "        np.random.seed(i_init)\n",
    "        #### generate initial cluster labels\n",
    "        cluster_labels = np.random.choice(range(n_clusters),size=n_points, replace=True)\n",
    "        #### generate initial centroids\n",
    "        #### randomly choose n_clusters points from the data as centroids\n",
    "        centroids = data[np.random.choice(np.arange(n_points), n_clusters, replace=False),:]\n",
    "        for i_iter in range(max_iter):\n",
    "            if verbose: print('Iteration',i_iter,end=', ')\n",
    "            distance_to_centroids = np.zeros(shape=(data.shape[0],n_clusters))\n",
    "            for i_centroid in range(n_clusters):\n",
    "                if kernel is None:\n",
    "                    ### ord=2 is L2 distance\n",
    "                    ### axis=1 is to calculate norm along columns\n",
    "                    distance_to_centroids[:,i_centroid] = np.linalg.norm(data-centroids[i_centroid,:],ord=2,axis=1)\n",
    "                elif kernel == 'gaussian':\n",
    "                    kth_cluster_ind = (cluster_labels == i_centroid).astype('int')\n",
    "                    kth_cluster_matrix = np.outer(kth_cluster_ind,kth_cluster_ind)\n",
    "                    dist1 = np.diag(kernel_matrix)\n",
    "                    dist2 = 2.0*np.sum(np.tile(kth_cluster_ind,(n_points,1))*kernel_matrix,axis=1)/np.sum(kth_cluster_ind)\n",
    "                    dist3 = np.sum(kth_cluster_matrix*kernel_matrix)/np.sum(kth_cluster_matrix)\n",
    "                    #print(dist1.shape,dist2.shape,dist3.shape,)\n",
    "                    ### ord=2 is L2 distance\n",
    "                    ### axis=1 is to calculate norm along columns\n",
    "                    distance_to_centroids[:,i_centroid] = dist1-dist2+dist3\n",
    "                    #break\n",
    "                else:\n",
    "                    sys.exit('Kernel parameter is not correct!')\n",
    "            #print(distance_to_centroids)\n",
    "            ### assign the cluster labels\n",
    "            cluster_labels = np.argmin(distance_to_centroids,axis=1)\n",
    "            sse = np.sum((np.min(distance_to_centroids,axis=1))**2)\n",
    "            if verbose: print('SSE',sse)\n",
    "            ### re-calculate centroids\n",
    "            previous_centroids = centroids\n",
    "            centroids = np.array([data[cluster_labels == i_centroid].mean(axis = 0) for i_centroid in range(n_clusters)])\n",
    "            ### if centroids don't change\n",
    "            ### stop the iteration\n",
    "            if np.all(previous_centroids == centroids):\n",
    "                if verbose: print('Centroids do not change',i_iter)\n",
    "                break\n",
    "            #break\n",
    "        controid_history[i_init] = centroids\n",
    "        cluster_label_history[i_init] = cluster_labels\n",
    "        sse_history[i_init] = sse\n",
    "        #break\n",
    "    ### find the best initializations\n",
    "    best_iter = np.argmin(sse_history)\n",
    "    best_sse = sse_history[best_iter]\n",
    "    best_controids = controid_history[best_iter]\n",
    "    best_cluster_label = cluster_label_history[best_iter]\n",
    "    \n",
    "    return {'best_iter':best_iter,\n",
    "            'best_sse':best_sse,\n",
    "            'best_controids':best_controids,\n",
    "            'best_cluster_label':best_cluster_label,\n",
    "            'controid_history':controid_history,\n",
    "            'cluster_label_history':cluster_label_history,\n",
    "            'sse_history':sse_history,\n",
    "           }"
   ]
  },
  {
   "cell_type": "code",
   "execution_count": 59,
   "metadata": {},
   "outputs": [],
   "source": [
    "import scipy\n",
    "from scipy.spatial import distance_matrix\n",
    "\n",
    "def adaptive_cluster(data, gap_par = 0.5, debug=False):\n",
    "    (n_points,n_features) = data.shape\n",
    "    distance_matrix = scipy.spatial.distance_matrix(data,data)\n",
    "    #print('distance_matrix.shape',distance_matrix.shape)\n",
    "    weight_matrix = np.zeros(shape=(n_points,n_points))\n",
    "    #print('weight_matrix.shape',weight_matrix.shape)\n",
    "    #plot_weight_matrix(weight_matrix)\n",
    "    ### sort the distance matrix\n",
    "    sorted_distance_idx_matrix = np.argsort(distance_matrix,axis=1)\n",
    "    sorted_distance_matrix = np.sort(distance_matrix,axis=1)\n",
    "    #print('sorted_distance_matrix.shape',sorted_distance_matrix.shape)    \n",
    "    #print('sorted_distance_idx_matrix.shape',sorted_distance_idx_matrix.shape)\n",
    "    ### number of neighbors\n",
    "    n0 = 2*n_features+2\n",
    "    ### h0 is the the radius such that the point has n0 neighbors \n",
    "    h0 = sorted_distance_matrix[:,n0]\n",
    "    #print('h0.shape',h0.shape)\n",
    "    ### max(h0(Xi),h0(Xj))\n",
    "    max_h0 = np.reshape([np.maximum(h0[i],h0[j]) for i in range(n_points) for j in range(n_points)],newshape=(n_points,n_points))\n",
    "    #print('max_h0.shape',max_h0.shape)\n",
    "    ### weight_matrix\n",
    "    weight_matrix = (distance_matrix <= max_h0).astype('int')\n",
    "    #print('weight_matrix.shape',weight_matrix.shape)\n",
    "    #plot_weight_matrix(weight_matrix)\n",
    "\n",
    "\n",
    "    #################################################################\n",
    "    ### find h sequence\n",
    "    a = 1.4142135623730951\n",
    "    b = 1.95\n",
    "    #gap_par = -1 \n",
    "    max_distance = np.max(sorted_distance_matrix)\n",
    "    ### h0 is a vector, each data point has n0 neighbors\n",
    "    ### max(h0) makes sure that each data point has at least n0 neighbors\n",
    "    h_array  = np.array([np.max(h0)])\n",
    "    #n_matrix = np.repeat(n0, n_points)\n",
    "    #n_matrix = n_matrix[:,np.newaxis]\n",
    "    k = 0\n",
    "\n",
    "    while h_array[k] <= max_distance:\n",
    "        ### upper bound of n(Xi,h_k+1)\n",
    "        ### given radius h_array[k], how many neighbors for each data point\n",
    "        ### -1 removes its self from counting\n",
    "        n_upper = a * np.array([np.sum(sorted_distance_matrix[i,:]<=h_array[k])-1 for i in np.arange(n_points)])\n",
    "        n_upper = (np.floor(n_upper)).astype('int')\n",
    "        ### when h is big, the n_upper may be > n_points\n",
    "        n_upper = np.clip(n_upper, a_min=None,a_max=(n_points-1))\n",
    "        #print(n_upper)\n",
    "        ### n_upper can decide the h_upper\n",
    "        h_upper_by_n_upper = np.min(np.array([sorted_distance_matrix[i,n_upper[i]] for i in np.arange(n_points)]))\n",
    "        ### upper bound of h_k+1\n",
    "        h_upper = b*h_array[k]\n",
    "        ### must satisfy both conditions\n",
    "        min_h_upper = np.minimum(h_upper_by_n_upper,h_upper)\n",
    "        #print(k,min_h_upper)\n",
    "        ### append to the h_array\n",
    "        ### just make sure h is not > max_distance\n",
    "        if min_h_upper <= max_distance:\n",
    "            if  min_h_upper <= h_array[k]: break\n",
    "            #print(k,'h',min_h_upper)\n",
    "            h_array = np.append(h_array,min_h_upper)\n",
    "        k = k + 1\n",
    "\n",
    "    #################################################################    \n",
    "    ### check if those h satisfy the conditions\n",
    "    if debug:\n",
    "        for k in range(1,len(h_array)):  \n",
    "            if h_array[k] <= b*h_array[k-1]:\n",
    "                continue\n",
    "                print('k',k,h_array[k],h_array[k-1],b*h_array[k-1],end=',')\n",
    "                print(h_array[k]/h_array[k-1])\n",
    "            else:\n",
    "                print('h error')\n",
    "        for k in range(1,len(h_array)):\n",
    "            for i in range(n_points):\n",
    "                n1 = np.sum(sorted_distance_matrix[i,:]<=h_array[k-1])-1 \n",
    "                n2 = np.sum(sorted_distance_matrix[i,:]<=h_array[k])-1 \n",
    "                if n2<=a*n1 and n1>=n0 and n2>=n0:\n",
    "                    continue\n",
    "                    print('n',k,n1,n2,a*n1,end=',')\n",
    "                    print(n2/n1)\n",
    "                else:\n",
    "                    print('n error')\n",
    "        \n",
    "    #################################################################\n",
    "    beta_a = (n_features+1.0)/2.0\n",
    "    beta_b = 0.5\n",
    "    beta_function = scipy.special.beta(beta_a,beta_b)\n",
    "\n",
    "    np.seterr(divide='ignore', invalid='ignore')  \n",
    "\n",
    "    for k in range(1,len(h_array)):\n",
    "        #print('h_k',h_array[k])\n",
    "        distance_matrix_temp = distance_matrix.copy()\n",
    "        distance_matrix_temp = np.where(distance_matrix_temp <= h_array[k], distance_matrix_temp, np.nan)  \n",
    "        #weight_matrix = (distance_matrix <= h_array[k]).astype('int')\n",
    "        #plot_weight_matrix(weight_matrix)\n",
    "        #### caclulate overlap\n",
    "        ### repalce l=i,j elements  to 0\n",
    "        ### no need to consider l!=i,j elements in the following calculation\n",
    "        np.fill_diagonal(weight_matrix,0) \n",
    "        N_overlap = [np.dot(weight_matrix[i,:],weight_matrix[j,:]) for i in range(n_points) for j in range(n_points)]\n",
    "        N_overlap = np.reshape(N_overlap,newshape=(n_points,n_points))\n",
    "        #### caclulate complement\n",
    "        N_complement = np.zeros(shape=(n_points,n_points))\n",
    "        for i in range(n_points):\n",
    "            for j in range(n_points):\n",
    "                if k>1:\n",
    "                    ind1 = (distance_matrix[j,:] > h_array[k-1]).astype('int')\n",
    "                    ind2 = (distance_matrix[i,:] > h_array[k-1]).astype('int')\n",
    "                if k==1:\n",
    "                    ind1 = (distance_matrix[j,:] > np.maximum(h0[i],h0[j])).astype('int')\n",
    "                    ind2 = (distance_matrix[i,:] > np.maximum(h0[i],h0[j])).astype('int')\n",
    "                N_complement[i,j] = np.dot(weight_matrix[i,:],ind1) + np.dot(weight_matrix[j,:],ind2)\n",
    "        ### repalce l=i,j elements back to 1\n",
    "        np.fill_diagonal(weight_matrix,1)\n",
    "        #### caclulate union\n",
    "        N_union = N_overlap + N_complement\n",
    "        #### theta\n",
    "        theta = N_overlap / N_union\n",
    "        #### q\n",
    "        t = distance_matrix_temp/h_array[k-1]\n",
    "        beta_x = 1.0-(t**2)/4.0\n",
    "        incomplete_beta_function = scipy.special.betainc(beta_a,beta_b,beta_x)\n",
    "        q = incomplete_beta_function / (2*beta_function-incomplete_beta_function)\n",
    "        T1 = N_union\n",
    "        #### this may raise warnings about log(0) or log(nan)\n",
    "        #### this is fine, since I used the whole matrix here\n",
    "        #### some of the points are out of the h(k) radius\n",
    "        #### we will mask those points in the later step\n",
    "        T2 = theta*np.log(theta/q)+(1.0-theta)*np.log((1.0-theta)/(1.0-q))\n",
    "        #### when N_overlap is 0, theta is 0, this leands to T is nan\n",
    "        #### replace those nan with 0 in T\n",
    "        #T2 = np.where(theta==0.0,0.0,T2)\n",
    "        #T2 = np.where(theta==1.0,0.0,T2)\n",
    "        T3 = ((theta<=q).astype('int')-(theta>q).astype('int'))\n",
    "        T = T1 * T2 * T3\n",
    "        ####\n",
    "        ####\n",
    "        weight_matrix = ((distance_matrix<=h_array[k]) * (T<=gap_par)).astype('int')\n",
    "        #### be careful with those boundary points\n",
    "        #### theta=0 means no overlap at all\n",
    "        #### theta=1 means completely overlap\n",
    "        #### needs special treatment for them\n",
    "        weight_matrix = np.where(theta==0,0,weight_matrix)\n",
    "        weight_matrix = np.where(theta==1,1,weight_matrix)\n",
    "        np.fill_diagonal(weight_matrix,1)\n",
    "        #plot_weight_matrix(weight_matrix)\n",
    "        #break\n",
    "\n",
    "    ### reset to default\n",
    "    np.seterr(divide='warn', invalid='warn')  \n",
    "    \n",
    "    ### calculate S\n",
    "    S = np.sum(weight_matrix)\n",
    "    \n",
    "\n",
    "    labels = (np.zeros(shape=weight_matrix.shape[0]))\n",
    "    labels.fill(np.nan)\n",
    "    cluster_ind = 0\n",
    "    for i in range(len(labels)):\n",
    "        for j in range(len(labels)):\n",
    "            if i == j:continue\n",
    "            if weight_matrix[i,j] == 1:\n",
    "                if np.isnan(labels[i]) and np.isnan(labels[j]):\n",
    "                    labels[i] = cluster_ind\n",
    "                    labels[j] = cluster_ind\n",
    "                    cluster_ind = cluster_ind + 1\n",
    "                elif not np.isnan(labels[i]) and np.isnan(labels[j]):\n",
    "                    labels[j] = labels[i]\n",
    "                elif  np.isnan(labels[i]) and not np.isnan(labels[j]):\n",
    "                    labels[i] = labels[j]\n",
    "                elif  not np.isnan(labels[i]) and  not np.isnan(labels[j]):\n",
    "                    continue\n",
    "                else:\n",
    "                    print(i,j,labels[i],labels[j])\n",
    "                    print('cluster assignment error')\n",
    "    \n",
    "    \n",
    "    return({\"S\":S,\"weight_matrix\":weight_matrix,\"cluster_label\":labels})\n",
    "        "
   ]
  },
  {
   "cell_type": "markdown",
   "metadata": {},
   "source": [
    "## Load test data"
   ]
  },
  {
   "cell_type": "code",
   "execution_count": 60,
   "metadata": {},
   "outputs": [
    {
     "data": {
      "image/png": "[encoded data removed]",
      "text/plain": [
       "<matplotlib.figure.Figure at 0x7f191c967358>"
      ]
     },
     "metadata": {},
     "output_type": "display_data"
    }
   ],
   "source": [
    "import numpy as np\n",
    "import matplotlib.pyplot as plt\n",
    "from sklearn.datasets import make_blobs\n",
    "\n",
    "n_samples = 1500\n",
    "random_state = 170\n",
    "X, y = make_blobs(n_samples=n_samples, random_state=random_state)\n",
    "X_filtered = np.vstack((X[y == 0][:100], X[y == 1][:100], X[y == 2][:100]))\n",
    "plt.scatter(X_filtered[:, 0], X_filtered[:, 1])\n",
    "plt.show()"
   ]
  },
  {
   "cell_type": "code",
   "execution_count": 61,
   "metadata": {},
   "outputs": [
    {
     "data": {
      "text/plain": [
       "(300, 2)"
      ]
     },
     "execution_count": 61,
     "metadata": {},
     "output_type": "execute_result"
    }
   ],
   "source": [
    "data = X_filtered\n",
    "data.shape"
   ]
  },
  {
   "cell_type": "markdown",
   "metadata": {},
   "source": [
    "### Test run"
   ]
  },
  {
   "cell_type": "code",
   "execution_count": 62,
   "metadata": {},
   "outputs": [
    {
     "data": {
      "image/png": "[encoded data removed]",
      "text/plain": [
       "<matplotlib.figure.Figure at 0x7f191c81add8>"
      ]
     },
     "metadata": {},
     "output_type": "display_data"
    }
   ],
   "source": [
    "result = k_means(data,n_clusters=3,n_init=50,verbose=False,kernel=None)\n",
    "y_pred = result['best_cluster_label']\n",
    "plt.scatter(X_filtered[:, 0], X_filtered[:, 1], c=y_pred)\n",
    "plt.title(\"K means\")\n",
    "plt.show()"
   ]
  },
  {
   "cell_type": "code",
   "execution_count": 63,
   "metadata": {},
   "outputs": [
    {
     "data": {
      "image/png": "[encoded data removed]",
      "text/plain": [
       "<matplotlib.figure.Figure at 0x7f196c134400>"
      ]
     },
     "metadata": {},
     "output_type": "display_data"
    }
   ],
   "source": [
    "result = k_means(data,n_clusters=3,n_init=50,verbose=False,kernel='gaussian')\n",
    "y_pred = result['best_cluster_label']\n",
    "plt.scatter(X_filtered[:, 0], X_filtered[:, 1], c=y_pred)\n",
    "plt.title(\"K means with gaunssian\")\n",
    "plt.show()"
   ]
  },
  {
   "cell_type": "code",
   "execution_count": 64,
   "metadata": {},
   "outputs": [
    {
     "data": {
      "image/png": "[encoded data removed]",
      "text/plain": [
       "<matplotlib.figure.Figure at 0x7f191cad2b70>"
      ]
     },
     "metadata": {},
     "output_type": "display_data"
    }
   ],
   "source": [
    "result = adaptive_cluster(data, gap_par = 0.5, debug=False)\n",
    "y_pred = result['cluster_label']\n",
    "plt.scatter(X_filtered[:, 0], X_filtered[:, 1], c=y_pred)\n",
    "plt.title(\"Adaptive clustering\")\n",
    "plt.show()"
   ]
  },
  {
   "cell_type": "markdown",
   "metadata": {},
   "source": [
    "### Find best lambda"
   ]
  },
  {
   "cell_type": "code",
   "execution_count": 65,
   "metadata": {
    "scrolled": false
   },
   "outputs": [
    {
     "name": "stdout",
     "output_type": "stream",
     "text": [
      "0.1 27552\n",
      "0.644444444444 30000\n",
      "1.18888888889 30000\n",
      "1.73333333333 30000\n",
      "2.27777777778 30000\n",
      "2.82222222222 30000\n",
      "3.36666666667 30000\n",
      "3.91111111111 30000\n",
      "4.45555555556 30000\n",
      "5.0 30000\n"
     ]
    }
   ],
   "source": [
    "S_array = []\n",
    "gap_pars = np.linspace(0.1,5,num=10)\n",
    "for gap_par in gap_pars:\n",
    "    result = adaptive_cluster(data, gap_par = gap_par, debug=False)\n",
    "    S = result['S']\n",
    "    print(gap_par,S)\n",
    "    S_array.append(S)"
   ]
  },
  {
   "cell_type": "markdown",
   "metadata": {
    "collapsed": true
   },
   "source": [
    "## Load real data"
   ]
  },
  {
   "cell_type": "code",
   "execution_count": 68,
   "metadata": {
    "collapsed": true
   },
   "outputs": [],
   "source": [
    "##Aggregation.txt  Compound.txt  D31.txt  flame.txt  jain.txt  pathbased.txt  R15.txt  spiral.txt\n",
    "cluster_data = {}"
   ]
  },
  {
   "cell_type": "code",
   "execution_count": 70,
   "metadata": {},
   "outputs": [
    {
     "data": {
      "text/html": [
       "<div>\n",
       "<style>\n",
       "    .dataframe thead tr:only-child th {\n",
       "        text-align: right;\n",
       "    }\n",
       "\n",
       "    .dataframe thead th {\n",
       "        text-align: left;\n",
       "    }\n",
       "\n",
       "    .dataframe tbody tr th {\n",
       "        vertical-align: top;\n",
       "    }\n",
       "</style>\n",
       "<table border=\"1\" class=\"dataframe\">\n",
       "  <thead>\n",
       "    <tr style=\"text-align: right;\">\n",
       "      <th></th>\n",
       "      <th>0</th>\n",
       "      <th>1</th>\n",
       "      <th>2</th>\n",
       "    </tr>\n",
       "  </thead>\n",
       "  <tbody>\n",
       "    <tr>\n",
       "      <th>0</th>\n",
       "      <td>15.55</td>\n",
       "      <td>28.65</td>\n",
       "      <td>2</td>\n",
       "    </tr>\n",
       "    <tr>\n",
       "      <th>1</th>\n",
       "      <td>14.90</td>\n",
       "      <td>27.55</td>\n",
       "      <td>2</td>\n",
       "    </tr>\n",
       "    <tr>\n",
       "      <th>2</th>\n",
       "      <td>14.45</td>\n",
       "      <td>28.35</td>\n",
       "      <td>2</td>\n",
       "    </tr>\n",
       "    <tr>\n",
       "      <th>3</th>\n",
       "      <td>14.15</td>\n",
       "      <td>28.80</td>\n",
       "      <td>2</td>\n",
       "    </tr>\n",
       "    <tr>\n",
       "      <th>4</th>\n",
       "      <td>13.75</td>\n",
       "      <td>28.05</td>\n",
       "      <td>2</td>\n",
       "    </tr>\n",
       "  </tbody>\n",
       "</table>\n",
       "</div>"
      ],
      "text/plain": [
       "       0      1  2\n",
       "0  15.55  28.65  2\n",
       "1  14.90  27.55  2\n",
       "2  14.45  28.35  2\n",
       "3  14.15  28.80  2\n",
       "4  13.75  28.05  2"
      ]
     },
     "execution_count": 70,
     "metadata": {},
     "output_type": "execute_result"
    }
   ],
   "source": [
    "cluster_data['Aggregation'] = pd.read_csv('../data/Aggregation.txt',sep='\\t',header=None)\n",
    "cluster_data['Aggregation'].head()"
   ]
  },
  {
   "cell_type": "code",
   "execution_count": null,
   "metadata": {
    "collapsed": true
   },
   "outputs": [],
   "source": []
  }
 ],
 "metadata": {
  "kernelspec": {
   "display_name": "Python 3",
   "language": "python",
   "name": "python3"
  },
  "language_info": {
   "codemirror_mode": {
    "name": "ipython",
    "version": 3
   },
   "file_extension": ".py",
   "mimetype": "text/x-python",
   "name": "python",
   "nbconvert_exporter": "python",
   "pygments_lexer": "ipython3",
   "version": "3.6.2"
  },
  "toc": {
   "nav_menu": {
    "height": "30px",
    "width": "252px"
   },
   "number_sections": true,
   "sideBar": true,
   "skip_h1_title": false,
   "toc_cell": false,
   "toc_position": {},
   "toc_section_display": "block",
   "toc_window_display": true
  }
 },
 "nbformat": 4,
 "nbformat_minor": 2
}
